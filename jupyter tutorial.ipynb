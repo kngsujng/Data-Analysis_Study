{
 "cells": [
  {
   "cell_type": "markdown",
   "id": "508b8fe6",
   "metadata": {},
   "source": [
    "# 주피터 노트북 사용법\n",
    "* Shift + Enter 키를 누르면 셀이 실행되고 커서가 다음 셀로 이동합니다. \n",
    "* Enter키를 누르면 다시 편집 상태로 돌아옵니다. \n",
    "* ESC 키를 누르고 \n",
    "    * a키를 누르면 위에 셀이 추가됩니다. \n",
    "    * b키를 누르면 아래에 셀이 추가됩니다. \n",
    "    * dd키를 누르면 셀이 삭제됩니다. \n",
    "    * m키를 누르면 마크다운 셀로 변경됩니다. \n",
    "    * y키를 누르면 코드 셀로 변경됩니다. \n",
    "  \n",
    "\n",
    "## 마크다운(Markdown)이란?\n",
    "* 코드와 함께 문서화를 할 수 있습니다.\n",
    "* `문서화`를 할 수 있는 `문법`입니다.\n",
    "```\n",
    "여러 줄의 설명을 \n",
    "줄바꿈으로 쓰고자 할 때 \n",
    "```\n"
   ]
  },
  {
   "cell_type": "code",
   "execution_count": null,
   "id": "7ae76014",
   "metadata": {},
   "outputs": [],
   "source": [
    "print('hello world!')"
   ]
  },
  {
   "cell_type": "code",
   "execution_count": null,
   "id": "328b07ae",
   "metadata": {},
   "outputs": [],
   "source": [
    "a = 1\n",
    "b = 2\n",
    "a + b"
   ]
  },
  {
   "cell_type": "code",
   "execution_count": null,
   "id": "c701908f",
   "metadata": {},
   "outputs": [],
   "source": [
    "for i in range(10000000):\n",
    "    print(i)"
   ]
  }
 ],
 "metadata": {
  "kernelspec": {
   "display_name": "Python 3 (ipykernel)",
   "language": "python",
   "name": "python3"
  },
  "language_info": {
   "codemirror_mode": {
    "name": "ipython",
    "version": 3
   },
   "file_extension": ".py",
   "mimetype": "text/x-python",
   "name": "python",
   "nbconvert_exporter": "python",
   "pygments_lexer": "ipython3",
   "version": "3.9.13"
  }
 },
 "nbformat": 4,
 "nbformat_minor": 5
}
